{
 "cells": [
  {
   "cell_type": "code",
   "execution_count": 1,
   "metadata": {},
   "outputs": [],
   "source": [
    "import sys\n",
    "import matplotlib.pyplot as plt\n",
    "sys.path.append(\"/mnt/storage/documents/IBS_PhD/programming/ABTT\") \n",
    "import ABTT.fsc.relion as relion_fsc"
   ]
  },
  {
   "cell_type": "code",
   "execution_count": 2,
   "metadata": {},
   "outputs": [],
   "source": [
    "star_file = '/home/aburt/Desktop/llefteris/FSC_curves_P23J209/postprocess.star'"
   ]
  },
  {
   "cell_type": "code",
   "execution_count": 3,
   "metadata": {},
   "outputs": [
    {
     "name": "stderr",
     "output_type": "stream",
     "text": [
      "WARNING:root:one or more data blocks in this star file are unsupported\n"
     ]
    }
   ],
   "source": [
    "%matplotlib inline\n",
    "plotter = relion_fsc.Plotter(star_file)"
   ]
  },
  {
   "cell_type": "code",
   "execution_count": 4,
   "metadata": {},
   "outputs": [],
   "source": [
    "from ipywidgets import interact, interactive, fixed, interact_manual\n",
    "import ipywidgets as widgets"
   ]
  },
  {
   "cell_type": "code",
   "execution_count": 5,
   "metadata": {},
   "outputs": [],
   "source": [
    "xaxis_precision=widgets.IntSlider(min=0, max=4, step=1, value=1)\n",
    "reported_resolution_precision = widgets.IntSlider(min=0, max=3, step=1, value=1)\n",
    "\n",
    "hide_spines = widgets.Checkbox(\n",
    "    value=False,\n",
    "    description='Hide Spines?',\n",
    "    disabled=False,\n",
    "    indent=False\n",
    ")\n",
    "\n",
    "display_legend = widgets.Checkbox(\n",
    "    value=True,\n",
    "    description='Display Legend?',\n",
    "    disabled=False,\n",
    "    indent=False\n",
    ")\n",
    "\n",
    "plot_0143 = widgets.Checkbox(\n",
    "    value=True,\n",
    "    description='Plot cutoff at 0.143?',\n",
    "    disabled=False,\n",
    "    indent=False\n",
    ")\n",
    "\n",
    "plot_05 = widgets.Checkbox(\n",
    "    value=True,\n",
    "    description='Plot cutoff at 0.5?',\n",
    "    disabled=False,\n",
    "    indent=False\n",
    ")\n",
    "\n",
    "plot_zero_line = widgets.Checkbox(\n",
    "    value=True,\n",
    "    description='Plot line at FSC=0?',\n",
    "    disabled=False,\n",
    "    indent=False\n",
    ")"
   ]
  },
  {
   "cell_type": "code",
   "execution_count": 6,
   "metadata": {
    "scrolled": false
   },
   "outputs": [
    {
     "data": {
      "application/vnd.jupyter.widget-view+json": {
       "model_id": "58e1344861df4c2aa66ef9a37bc6da0c",
       "version_major": 2,
       "version_minor": 0
      },
      "text/plain": [
       "Canvas(toolbar=Toolbar(toolitems=[('Home', 'Reset original view', 'home', 'home'), ('Back', 'Back to previous …"
      ]
     },
     "metadata": {},
     "output_type": "display_data"
    },
    {
     "data": {
      "application/vnd.jupyter.widget-view+json": {
       "model_id": "de50cd0419c54febb80c36c597a1d82f",
       "version_major": 2,
       "version_minor": 0
      },
      "text/plain": [
       "interactive(children=(IntSlider(value=1, description='xaxis_precision', max=4), IntSlider(value=1, description…"
      ]
     },
     "metadata": {},
     "output_type": "display_data"
    },
    {
     "data": {
      "text/plain": [
       "<function __main__.update_plot(xaxis_precision, reported_resolution_precision, hide_spines, display_legend, plot_0143, plot_05, plot_zero_line)>"
      ]
     },
     "execution_count": 6,
     "metadata": {},
     "output_type": "execute_result"
    }
   ],
   "source": [
    "%matplotlib widget\n",
    "fig, ax = plt.subplots()\n",
    "fig.set_size_inches(13,8)\n",
    "\n",
    "def update_plot(xaxis_precision, \n",
    "                reported_resolution_precision,\n",
    "                hide_spines,\n",
    "                display_legend,\n",
    "                plot_0143,\n",
    "                plot_05,\n",
    "                plot_zero_line\n",
    "               ):\n",
    "    global plotter\n",
    "    global ax\n",
    "    global fig\n",
    "    ax.clear()\n",
    "    \n",
    "    _ = plotter.plot(ax=ax,\n",
    "                     fig=fig,\n",
    "                     hide_spines=hide_spines,\n",
    "                     legend=display_legend,\n",
    "                     plot_cutoff_0143=plot_0143,\n",
    "                     plot_cutoff_05=plot_05,\n",
    "                     plot_zero_line=plot_zero_line,\n",
    "                     reported_resolution_precision=reported_resolution_precision,\n",
    "                     xaxis_precision=xaxis_precision)\n",
    "\n",
    "\n",
    "interact(update_plot, xaxis_precision=xaxis_precision, \n",
    "         reported_resolution_precision=reported_resolution_precision, \n",
    "         hide_spines=hide_spines,\n",
    "         display_legend=display_legend,\n",
    "         plot_0143=plot_0143,\n",
    "         plot_05=plot_05,\n",
    "         plot_zero_line=plot_zero_line,\n",
    "         \n",
    "        )"
   ]
  }
 ],
 "metadata": {
  "kernelspec": {
   "display_name": "Python 3",
   "language": "python",
   "name": "python3"
  },
  "language_info": {
   "codemirror_mode": {
    "name": "ipython",
    "version": 3
   },
   "file_extension": ".py",
   "mimetype": "text/x-python",
   "name": "python",
   "nbconvert_exporter": "python",
   "pygments_lexer": "ipython3",
   "version": "3.7.6"
  }
 },
 "nbformat": 4,
 "nbformat_minor": 4
}
